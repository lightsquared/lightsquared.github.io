{
  "cells": [
    {
      "cell_type": "markdown",
      "source": [
        "# Estimation of Temperature and Pressure of a Constant Volume Propane-Oxygen Mixture\n",
        "\n",
        "A recent project required a first-order approximation to determine if an explosive gas mixture would result in a tank rupture.  The following analysis done in Python follows Coopers analysis [[1]]  It provides a reasonable approximation, however it is sensitive to the chemical reaction hieratchy assumed.\n",
        "\n",
        "This post is based on an initial analysis of an article in [Inspire 12](https://en.wikipedia.org/wiki/Inspire_(magazine)).  I used the [pint](https://pint.readthedocs.io/en/latest/) library to provide [dimensional analysis](https://en.wikipedia.org/wiki/Dimensional_analysis) where I could.  A second post on this topic will be written where I used the [Cantera](https://cantera.org/) and [SDToolbox](http://shepherd.caltech.edu/EDL/PublicResources/sdt/) libraries to perform a more in depth analysis.\n",
        "\nTo start this analysis let's load the necessary Python libraries and some formating,"
      ],
      "metadata": {}
    },
    {
      "cell_type": "code",
      "source": [
        "# Setup for calcuations\n",
        "import pint\n",
        "u = pint.UnitRegistry()\n",
        "u.default_format = '~P'\n",
        "from prettytable import PrettyTable\n",
        "from IPython.display import display, Math\n",
        "from sympy import *\n",
        "init_printing(use_unicode=True)\n",
        "from sympy import *\n",
        "init_printing(use_unicode=True)\n",
        "from numpy import linspace\n",
        "from sympy import lambdify\n",
        "import matplotlib.pyplot as plt\n",
        "%matplotlib inline\n",
        "\n",
        "from IPython.display import set_matplotlib_formats\n",
        "set_matplotlib_formats('pdf', 'png')\n",
        "plt.rcParams['savefig.dpi'] = 75\n",
        "\n",
        "plt.rcParams['figure.autolayout'] = False\n",
        "plt.rcParams['figure.figsize'] = 1.61803398875*8, 8\n",
        "plt.rcParams['axes.labelsize'] = 20\n",
        "plt.rcParams['axes.titlesize'] = 22\n",
        "plt.rcParams['font.size'] = 18\n",
        "plt.rcParams['lines.linewidth'] = 2.0\n",
        "plt.rcParams['lines.markersize'] = 8\n",
        "plt.rcParams['legend.fontsize'] = 16\n",
        "\n",
        "plt.rcParams['text.usetex'] = True\n",
        "plt.rcParams['font.family'] = 'serif'\n",
        "plt.rcParams['font.weight'] = 'regular'\n",
        "plt.rcParams['mathtext.fontset'] = 'dejavuserif'"
      ],
      "outputs": [],
      "execution_count": 134,
      "metadata": {
        "collapsed": false,
        "outputHidden": false,
        "inputHidden": false
      }
    },
    {
      "cell_type": "markdown",
      "source": [
        "## Volume of Standard 20 lb Propane Tank\n",
        "\nTo start this analysis we need to calculate the volume of a 20 lb propane tank.  Using the weight of water in a 20 lb propane tank, $wt_{H_{2}O}= 21.6\\:kg$ and the density of water, $\\rho_{H_{2}}= 1000\\:\\frac{kg}{m^3}$ we can calculate the volume of the tank,"
      ],
      "metadata": {}
    },
    {
      "cell_type": "code",
      "source": [
        "wt_water = 21.6*u.kilogram\n",
        "rho_water = 1000*u.kilogram/u.meter**3\n",
        "v_tank = wt_water/rho_water\n",
        "display(Math((r\"V_{{tank}} = %s\" % latex(v_tank))))"
      ],
      "outputs": [
        {
          "output_type": "display_data",
          "data": {
            "text/plain": [
              "<IPython.core.display.Math object>"
            ],
            "text/latex": [
              "$\\displaystyle V_{{tank}} = 0.0216 m³$"
            ]
          },
          "metadata": {}
        }
      ],
      "execution_count": 135,
      "metadata": {
        "collapsed": false,
        "outputHidden": false,
        "inputHidden": false
      }
    },
    {
      "cell_type": "markdown",
      "source": [
        "## Explosive Gas Mixture Recipe\n",
        "\n",
        "The sections of the article relevant to the preparation of the gas mixture are:\n",
        "\n",
        "- Discharge gas from the propane tank until only, $P_{C_3H_8} = 4\\:bar$, are left in it.\n",
        "- Insert, $P_{O_2}= 9\\:bar$\n",
        "\nTherefore, the partial pressure of propane is,"
      ],
      "metadata": {}
    },
    {
      "cell_type": "code",
      "source": [
        "p_c3h8 = 4*u.bar\n",
        "p_c3h8.ito(u.pascal)\n",
        "r = 8.314*(u.meter**3*u.pascal)/(u.mole*u.kelvin)\n",
        "t_c3h8 = 293.2*u.kelvin\n",
        "p_c3h8.ito(u.kilopascal)\n",
        "display(Math((r\"P_{{C_3H_8}} = %s\" % latex(p_c3h8))))\n",
        "p_c3h8.ito(u.pascal)\n"
      ],
      "outputs": [
        {
          "output_type": "display_data",
          "data": {
            "text/plain": [
              "<IPython.core.display.Math object>"
            ],
            "text/latex": [
              "$\\displaystyle P_{{C_3H_8}} = 400.0 kPa$"
            ]
          },
          "metadata": {}
        }
      ],
      "execution_count": 136,
      "metadata": {
        "collapsed": false,
        "outputHidden": false,
        "inputHidden": false
      }
    },
    {
      "cell_type": "markdown",
      "source": [
        "Using the ideal gas law, the weight and moles of propane are,"
      ],
      "metadata": {}
    },
    {
      "cell_type": "code",
      "source": [
        "n_c3h8 = (p_c3h8*v_tank)/(r*t_c3h8)\n",
        "mw_c3h8 = 44.0956*u.gram/u.mole\n",
        "wt_c3h8 = n_c3h8*mw_c3h8\n",
        "wt_c3h8.ito(u.pound)\n",
        "display(Math((r\"W_{{C_3H_8}} = {:3.3}\\:lb\".format(latex(wt_c3h8)))))\n",
        "display(Math((r\"n_{{C_3H_8}} = {:3.3}\\:mol\".format(latex(n_c3h8)))))"
      ],
      "outputs": [
        {
          "output_type": "display_data",
          "data": {
            "text/plain": [
              "<IPython.core.display.Math object>"
            ],
            "text/latex": [
              "$\\displaystyle W_{C_3H_8} = 0.3\\:lb$"
            ]
          },
          "metadata": {}
        },
        {
          "output_type": "display_data",
          "data": {
            "text/plain": [
              "<IPython.core.display.Math object>"
            ],
            "text/latex": [
              "$\\displaystyle n_{C_3H_8} = 3.5\\:mol$"
            ]
          },
          "metadata": {}
        }
      ],
      "execution_count": 137,
      "metadata": {
        "collapsed": false,
        "outputHidden": false,
        "inputHidden": false
      }
    },
    {
      "cell_type": "markdown",
      "source": [
        "The partial pressure of the oxygen would be,"
      ],
      "metadata": {}
    },
    {
      "cell_type": "code",
      "source": [
        "p_o2 = 9*u.bar\n",
        "p_o2.ito(u.pascal)\n",
        "r = 8.314*(u.meter**3*u.pascal)/(u.mole*u.kelvin)\n",
        "t_o2 = 293.2*u.kelvin\n",
        "p_o2.ito(u.kilopascal)\n",
        "display(Math((r\"P_{{O_2}} = %s\" % latex(p_o2))))\n",
        "p_o2.ito(u.pascal)"
      ],
      "outputs": [
        {
          "output_type": "display_data",
          "data": {
            "text/plain": [
              "<IPython.core.display.Math object>"
            ],
            "text/latex": [
              "$\\displaystyle P_{{O_2}} = 900.0 kPa$"
            ]
          },
          "metadata": {}
        }
      ],
      "execution_count": 138,
      "metadata": {
        "collapsed": false,
        "outputHidden": false,
        "inputHidden": false
      }
    },
    {
      "cell_type": "markdown",
      "source": [
        "Again using the ideal gas law the weight and moles of oxygen are,"
      ],
      "metadata": {}
    },
    {
      "cell_type": "code",
      "source": [
        "n_o2 = (p_o2*v_tank)/(r*t_o2)\n",
        "mw_o2 = 31.9988*u.gram/u.mole\n",
        "wt_o2 = n_o2*mw_o2\n",
        "wt_o2.ito(u.pound)\n",
        "display(Math((r\"W_{{O_2}} = {:3.3}\".format(latex(wt_o2)))))\n",
        "display(Math((r\"n_{{O_2}} = {:3.3}\".format(latex(n_o2)))))"
      ],
      "outputs": [
        {
          "output_type": "display_data",
          "data": {
            "text/plain": [
              "<IPython.core.display.Math object>"
            ],
            "text/latex": [
              "$\\displaystyle W_{O_2} = 0.5$"
            ]
          },
          "metadata": {}
        },
        {
          "output_type": "display_data",
          "data": {
            "text/plain": [
              "<IPython.core.display.Math object>"
            ],
            "text/latex": [
              "$\\displaystyle n_{O_2} = 7.9$"
            ]
          },
          "metadata": {}
        }
      ],
      "execution_count": 139,
      "metadata": {
        "collapsed": false,
        "outputHidden": false,
        "inputHidden": false
      }
    },
    {
      "cell_type": "markdown",
      "source": [
        "The total gas mixture weight is,"
      ],
      "metadata": {}
    },
    {
      "cell_type": "code",
      "source": [
        "wt_tot = wt_c3h8 + wt_o2\n",
        "display(Math((r\"W_{{tot}} = %s\" % latex(wt_tot))))\n",
        "wt_tot.ito(u.grams)"
      ],
      "outputs": [
        {
          "output_type": "display_data",
          "data": {
            "text/plain": [
              "<IPython.core.display.Math object>"
            ],
            "text/latex": [
              "$\\displaystyle W_{{tot}} = 0.9071511924432267 lb$"
            ]
          },
          "metadata": {}
        }
      ],
      "execution_count": 140,
      "metadata": {
        "collapsed": false,
        "outputHidden": false,
        "inputHidden": false
      }
    },
    {
      "cell_type": "markdown",
      "source": [
        "## Chemical Reaction\n",
        "The CHNO reaction hieratchy is,\n",
        "\n",
        "1. All carbon is burned to CO.\n",
        "2. All the hydrogen is burned to H2O.\n",
        "3. Any oxygen left after CO and H2O formation burns CO to CO2. 4. All the nitrogen forms N2.\n",
        "5. Any oxygen remaining forms O2.\n",
        "6. Any hydrogen remaining form H2.\n",
        "7. Any carbon reamaining forms C.\n",
        "\n",
        "For our reaction substituting the moles of propane and oxygen we have, \n",
        "\n\n",
        "$$3.544C_3H_8 + 7.975O_2 → 10.623CO + 5.327H_2O +  + 8.849H_2$$\n",
        "\n",
        "Normalizing on the number of moles of propane we have, \n",
        "\n",
        "$$C_3H_8 + 2.25O_2 → 1.5H_2O + 3CO + 2.5H_2$$\n",
        "\n",
        "Leaving 2.5 moles of hydrogen unreacted for every mole of propane burned or a fuel rich reaction. Once the tank has ruptured this free hydrogen and the carbon monoxide will react with the oxygen in the air.\n",
        "\n",
        "## Heat Produced\n",
        "\n",
        "Because we are interested in the the pressure and temperature inside the tank we will ignore that it will eventually rupture and that the excess hydrogen will be consumed in the afterburn. In this case the heat evolved is equal to the heat of explosion of the propane.\n",
        "\n",
        "$$ΔH_{expo} = ΣΔH_{fo}(products) - ΔH_{fo}(reactants)$$\n",
        "\n",
        "From the National Institute of Standards and Testing (NIST) we have the enthalpy of formations for the products and reactants,\n"
      ],
      "metadata": {
        "collapsed": false,
        "outputHidden": false,
        "inputHidden": false
      }
    },
    {
      "cell_type": "code",
      "source": [
        "# Enthalpy of Formation from NIST\n",
        "d_H_c3h8 = -2354*u.joule/u.gram\n",
        "d_H_h2o  = -13420*u.joule/u.gram\n",
        "d_H_co   = -3945*u.joule/u.gram\n",
        "\n",
        "# Molecular Weights from NIST\n",
        "mw_h2o = 18.0153*u.gram/u.mole\n",
        "mw_co  = 28.0101*u.gram/u.mole\n",
        "\n",
        "# Moles of Reactants\n",
        "n_h2o = 5.327*u.moles\n",
        "n_co = 10.623*u.moles\n",
        "n_h2 = 8.849*u.moles\n",
        "\n",
        "pt = PrettyTable()\n",
        "\n",
        "print_mole_c3h8 = f\"{n_c3h8:0.2f}\"\n",
        "print_mole_h2o = f\"{n_h2o:0.2f}\"\n",
        "print_mole_co = f\"{n_co:0.2f}\"\n",
        "print_H_c3h8 = f\"{d_H_c3h8*mw_c3h8:0.2f}\"\n",
        "print_H_h2o = f\"{d_H_h2o*mw_h2o:0.2f}\"\n",
        "print_H_co = f\"{d_H_co*mw_co:0.2f}\"\n",
        "\n",
        "pt.field_names = [\"Compound\",\"Hf - J/g\", \"MW - g/mol\", \"Hf - J/mol\", \"n\"]\n",
        "pt.add_row([\"Propane\", d_H_c3h8, mw_c3h8, print_H_c3h8, print_mole_c3h8])\n",
        "pt.add_row([\"Water\", d_H_h2o, mw_h2o, print_H_h2o, print_mole_h2o])\n",
        "pt.add_row([\"Carbon Monoxide\", d_H_co, mw_co, print_H_co, print_mole_co])\n",
        "\nprint(pt)"
      ],
      "outputs": [
        {
          "output_type": "stream",
          "name": "stdout",
          "text": [
            "+-----------------+--------------+---------------+-------------------------+------------+\n",
            "|     Compound    |   Hf - J/g   |   MW - g/mol  |        Hf - J/mol       |     n      |\n",
            "+-----------------+--------------+---------------+-------------------------+------------+\n",
            "|     Propane     | -2354.0 J/g  | 44.0956 g/mol | -103801.04 joule / mole | 3.54 mole  |\n",
            "|      Water      | -13420.0 J/g | 18.0153 g/mol | -241765.33 joule / mole | 5.33 mole  |\n",
            "| Carbon Monoxide | -3945.0 J/g  | 28.0101 g/mol | -110499.84 joule / mole | 10.62 mole |\n",
            "+-----------------+--------------+---------------+-------------------------+------------+\n"
          ]
        }
      ],
      "execution_count": 141,
      "metadata": {
        "collapsed": false,
        "outputHidden": false,
        "inputHidden": false
      }
    },
    {
      "cell_type": "markdown",
      "source": [
        "Calculating the heat of explosion we have,"
      ],
      "metadata": {}
    },
    {
      "cell_type": "code",
      "source": [
        "d_H_exp = (n_h2o*d_H_h2o*mw_h2o + n_co*d_H_co*mw_co)-n_c3h8*d_H_c3h8*mw_c3h8\n",
        "display(Math(r'\\Delta H_{{exp}} = {:.02f~P}'.format(d_H_exp)))"
      ],
      "outputs": [
        {
          "output_type": "display_data",
          "data": {
            "text/plain": [
              "<IPython.core.display.Math object>"
            ],
            "text/latex": [
              "$\\displaystyle \\Delta H_{exp} = -2093813.84 J$"
            ]
          },
          "metadata": {}
        }
      ],
      "execution_count": 142,
      "metadata": {
        "collapsed": false,
        "outputHidden": false,
        "inputHidden": false
      }
    },
    {
      "cell_type": "markdown",
      "source": [
        "## TNT Equivalency\n",
        "We we can equate the heat of detonation of propane to the heat of detonation of TNT to detrmine a TNT equivalency. We can get the experimentally derived heat of detonation of TNT from Cooper (page 132) which is,"
      ],
      "metadata": {}
    },
    {
      "cell_type": "code",
      "source": [
        "d_H_tnt = -247500*u.calorie/u.mole\n",
        "d_H_tnt.ito(u.joules/u.mole)\n",
        "display(Math(r'\\Delta H_{{TNT}} = {:.02f~P}'.format(d_H_tnt)))"
      ],
      "outputs": [
        {
          "output_type": "display_data",
          "data": {
            "text/plain": [
              "<IPython.core.display.Math object>"
            ],
            "text/latex": [
              "$\\displaystyle \\Delta H_{TNT} = -1035540.00 J/mol$"
            ]
          },
          "metadata": {}
        }
      ],
      "execution_count": 143,
      "metadata": {
        "collapsed": false,
        "outputHidden": false,
        "inputHidden": false
      }
    },
    {
      "cell_type": "markdown",
      "source": [
        "The molecular weight of TNT is,"
      ],
      "metadata": {}
    },
    {
      "cell_type": "code",
      "source": [
        "mw_tnt = 227.1*u.gram/u.mole\n",
        "display(Math(r'MW_{{TNT}} = {:.02f~P}'.format(mw_tnt)))"
      ],
      "outputs": [
        {
          "output_type": "display_data",
          "data": {
            "text/plain": [
              "<IPython.core.display.Math object>"
            ],
            "text/latex": [
              "$\\displaystyle MW_{TNT} = 227.10 g/mol$"
            ]
          },
          "metadata": {}
        }
      ],
      "execution_count": 144,
      "metadata": {
        "collapsed": false,
        "outputHidden": false,
        "inputHidden": false
      }
    },
    {
      "cell_type": "markdown",
      "source": [
        "\nDividing by the heat of detonation for TNT by the molecular weight we have,"
      ],
      "metadata": {}
    },
    {
      "cell_type": "code",
      "source": [
        "d_h_tnt = d_H_tnt/mw_tnt\n",
        "display(Math(r'\\Delta h_{{TNT}} = {:.02f~P}'.format(d_h_tnt)))"
      ],
      "outputs": [
        {
          "output_type": "display_data",
          "data": {
            "text/plain": [
              "<IPython.core.display.Math object>"
            ],
            "text/latex": [
              "$\\displaystyle \\Delta h_{TNT} = -4559.84 J/g$"
            ]
          },
          "metadata": {}
        }
      ],
      "execution_count": 145,
      "metadata": {
        "collapsed": false,
        "outputHidden": false,
        "inputHidden": false
      }
    },
    {
      "cell_type": "markdown",
      "source": [
        "If we divide the heat of exposion of propane calculated above by the weight of the propane-oxygen mixture we have,"
      ],
      "metadata": {}
    },
    {
      "cell_type": "code",
      "source": [
        "d_h_exp = d_H_exp/wt_tot\n",
        "display(Math(r'\\Delta h_{{exp}} = {:.02f~P}'.format(d_h_exp)))"
      ],
      "outputs": [
        {
          "output_type": "display_data",
          "data": {
            "text/plain": [
              "<IPython.core.display.Math object>"
            ],
            "text/latex": [
              "$\\displaystyle \\Delta h_{exp} = -5088.53 J/g$"
            ]
          },
          "metadata": {}
        }
      ],
      "execution_count": 146,
      "metadata": {
        "collapsed": false,
        "outputHidden": false,
        "inputHidden": false
      }
    },
    {
      "cell_type": "markdown",
      "source": [
        "So we can estimate the TNT equivalency by dividing the specific heat of explosion of propane by the specific heat of detonation of TNT or,"
      ],
      "metadata": {}
    },
    {
      "cell_type": "code",
      "source": [
        "tnt_eqv = d_h_exp/d_h_tnt\n",
        "display(Math(r'E_{{\\Delta h}} = {:.02f~P}'.format(tnt_eqv)))"
      ],
      "outputs": [
        {
          "output_type": "display_data",
          "data": {
            "text/plain": [
              "<IPython.core.display.Math object>"
            ],
            "text/latex": [
              "$\\displaystyle E_{\\Delta h} = 1.12$"
            ]
          },
          "metadata": {}
        }
      ],
      "execution_count": 147,
      "metadata": {
        "collapsed": false,
        "outputHidden": false,
        "inputHidden": false
      }
    },
    {
      "cell_type": "markdown",
      "source": [
        "So theroretically, the propane-oxygen mixture is 1.12 times more powerful than TNT, however, the hierarchy of products plays a significant role in the amount of energy calculated to be released. Depending on the method used errors as large as $\\pm 30\\%$ can be observed as compared to experimentally determined values (Cooper pg 132). Using this margin of error a more realistic value for the TNT equivalency would be $1.12 \\pm 0.34$.\n",
        "\n",
        "## Temperature of the Gases\n",
        "\n",
        "A simple method of determining the temperature of the gases inside the tank, $T_V$, is to use,\n",
        "\n",
        "$$T_V = T_a\\lambda$$\n",
        "\n",
        "where, $T_a$ is the adiabatic flame temperature and $\\lambda$ is the ratio of the specific heats of the gases, $\\lambda=\\frac{C_P}{C_V}$.  The adiabatic flame temperature can be found from,\n",
        "\n",
        "$$Q=n\\int_{T_0}^{T_a} \\! C_P \\, \\mathrm{d}T$$\n",
        "\n",
        "where $C_P$ is the average specific heat of the combustion gases at constant pressure, $n$ is the number of moles of combution gases. The average heat capactity, $C_P$, of the gases can be calculated using,\n",
        "\n",
        "$$C_P=\\sum_{i=n}^{1}\\left(n_i\\cdot C_{Pi}\\right)$$\n",
        "\nTo calcualte the mole fractions of the product gases we first need the total moles of products,"
      ],
      "metadata": {}
    },
    {
      "cell_type": "code",
      "source": [
        "N_prod = n_h2o+n_co+n_h2\n",
        "display(Math(r'n_{{total}} = {:.02f~P}'.format(N_prod)))"
      ],
      "outputs": [
        {
          "output_type": "display_data",
          "data": {
            "text/plain": [
              "<IPython.core.display.Math object>"
            ],
            "text/latex": [
              "$\\displaystyle n_{total} = 24.80 mol$"
            ]
          },
          "metadata": {}
        }
      ],
      "execution_count": 148,
      "metadata": {
        "collapsed": false,
        "outputHidden": false,
        "inputHidden": false
      }
    },
    {
      "cell_type": "markdown",
      "source": [
        "the mole fractions are then,"
      ],
      "metadata": {}
    },
    {
      "cell_type": "code",
      "source": [
        "n_frac_co = n_co/N_prod\n",
        "n_frac_h2o = n_h2o/N_prod\n",
        "n_frac_h2 = n_h2/N_prod\n",
        "display(Math(r'X_{{CO}} = {:.02f~P}'.format(n_frac_co)))\n",
        "display(Math(r'X_{{H_2O}} = {:.02f~P}'.format(n_frac_h2o)))\n",
        "display(Math(r'X_{{H_2}} = {:.02f~P}'.format(n_frac_h2)))"
      ],
      "outputs": [
        {
          "output_type": "display_data",
          "data": {
            "text/plain": [
              "<IPython.core.display.Math object>"
            ],
            "text/latex": [
              "$\\displaystyle X_{CO} = 0.43$"
            ]
          },
          "metadata": {}
        },
        {
          "output_type": "display_data",
          "data": {
            "text/plain": [
              "<IPython.core.display.Math object>"
            ],
            "text/latex": [
              "$\\displaystyle X_{H_2O} = 0.21$"
            ]
          },
          "metadata": {}
        },
        {
          "output_type": "display_data",
          "data": {
            "text/plain": [
              "<IPython.core.display.Math object>"
            ],
            "text/latex": [
              "$\\displaystyle X_{H_2} = 0.36$"
            ]
          },
          "metadata": {}
        }
      ],
      "execution_count": 149,
      "metadata": {
        "collapsed": false,
        "outputHidden": false,
        "inputHidden": false
      }
    },
    {
      "cell_type": "markdown",
      "source": [
        "From Cooper Table 8.2 the molar heat capacities of carbon monoxide, water, and hydrogen are,"
      ],
      "metadata": {}
    },
    {
      "cell_type": "code",
      "source": [
        "T= symbols('T', positive = True)\n",
        "Ta= symbols('Ta', positive = True, real = True)\n",
        "C_P_co = Function('C_P_co')('T')\n",
        "C_P_h2o = Function('C_P_h2o')('T')\n",
        "C_P_h2 = Function('C_P_h2')('T')\n",
        "\n",
        "C_P_co  = 6.350 + 1.811e-3*T - 0.2675e-6*T**2\n",
        "C_P_h2o = 7.136 + 2.640e-3*T + 0.0459e-6*T**2\n",
        "C_P_h2  = 6.946 - 0.196e-3*T + 0.4757e-6*T**2\n",
        "display(Math((r\"C_{{P-CO}} = %s\" % latex(C_P_co))))\n",
        "display(Math((r\"C_{{P-H_2O}} = %s\" % latex(C_P_h2o))))\n",
        "display(Math((r\"C_{{P-H2}} = %s\" % latex(C_P_h2))))"
      ],
      "outputs": [
        {
          "output_type": "display_data",
          "data": {
            "text/plain": [
              "<IPython.core.display.Math object>"
            ],
            "text/latex": [
              "$\\displaystyle C_{{P-CO}} = - 2.675 \\cdot 10^{-7} T^{2} + 0.001811 T + 6.35$"
            ]
          },
          "metadata": {}
        },
        {
          "output_type": "display_data",
          "data": {
            "text/plain": [
              "<IPython.core.display.Math object>"
            ],
            "text/latex": [
              "$\\displaystyle C_{{P-H_2O}} = 4.59 \\cdot 10^{-8} T^{2} + 0.00264 T + 7.136$"
            ]
          },
          "metadata": {}
        },
        {
          "output_type": "display_data",
          "data": {
            "text/plain": [
              "<IPython.core.display.Math object>"
            ],
            "text/latex": [
              "$\\displaystyle C_{{P-H2}} = 4.757 \\cdot 10^{-7} T^{2} - 0.000196 T + 6.946$"
            ]
          },
          "metadata": {}
        }
      ],
      "execution_count": 150,
      "metadata": {
        "collapsed": false,
        "outputHidden": false,
        "inputHidden": false
      }
    },
    {
      "cell_type": "markdown",
      "source": [
        "Multiplying through by the mole fraction and summing we have the average specific heat at constant pressure for carbon monoxide, water, and hydrogen,"
      ],
      "metadata": {}
    },
    {
      "cell_type": "code",
      "source": [
        "c_p = (n_frac_co.magnitude)*(C_P_co) + (n_frac_h2o.magnitude)*(C_P_h2o) + (n_frac_h2.magnitude)*(C_P_h2)\n",
        "c_p\n",
        "\ndisplay(Math((r\"C_{{P-avg}} = %s\" % latex(c_p))))"
      ],
      "outputs": [
        {
          "output_type": "display_data",
          "data": {
            "text/plain": [
              "<IPython.core.display.Math object>"
            ],
            "text/latex": [
              "$\\displaystyle C_{{P-avg}} = 6.50157707972096 \\cdot 10^{-8} T^{2} + 0.00127291943223517 T + 6.73150836727287$"
            ]
          },
          "metadata": {}
        }
      ],
      "execution_count": 151,
      "metadata": {
        "collapsed": false,
        "outputHidden": false,
        "inputHidden": false
      }
    },
    {
      "cell_type": "markdown",
      "source": [
        "Changing the units of the $\\Delta H_{exp}$ to calories and integrating from $298\\:K$ to $T_a$ we have,\n",
        "\n$$Q=n\\int_{T_0}^{T_a} \\! C_P \\, \\mathrm{d}T$$"
      ],
      "metadata": {}
    },
    {
      "cell_type": "code",
      "source": [
        "d_H_exp.ito(u.calorie)\n",
        "q = N_prod*integrate(c_p, (T, 298, Ta))\n",
        "\n",
        "display(Math(r'\\Delta H_{{exp}} = Q = {:.02f~P}'.format(d_H_exp)))\n",
        "display(Math((r\"Q = %s\" % latex(q.magnitude))))"
      ],
      "outputs": [
        {
          "output_type": "display_data",
          "data": {
            "text/plain": [
              "<IPython.core.display.Math object>"
            ],
            "text/latex": [
              "$\\displaystyle \\Delta H_{exp} = Q = -500433.52 cal$"
            ]
          },
          "metadata": {}
        },
        {
          "output_type": "display_data",
          "data": {
            "text/plain": [
              "<IPython.core.display.Math object>"
            ],
            "text/latex": [
              "$\\displaystyle Q = 5.37442033333333 \\cdot 10^{-7} Ta^{3} + 0.0157835645 Ta^{2} + 166.934676 Ta - 51162.3997565518$"
            ]
          },
          "metadata": {}
        }
      ],
      "execution_count": 152,
      "metadata": {
        "collapsed": false,
        "outputHidden": false,
        "inputHidden": false
      }
    },
    {
      "cell_type": "markdown",
      "source": [
        "The only thing we don't know in the equation is $T_a$, so solving for $T_a$ we have,"
      ],
      "metadata": {}
    },
    {
      "cell_type": "code",
      "source": [
        "sol = solve(q.magnitude + d_H_exp.magnitude, Ta)[0]*u.K\n",
        "display(Math((r\"T_a = {:6.6} \\:K\".format(latex(sol)))))"
      ],
      "outputs": [
        {
          "output_type": "display_data",
          "data": {
            "text/plain": [
              "<IPython.core.display.Math object>"
            ],
            "text/latex": [
              "$\\displaystyle T_a = 2605.4 \\:K$"
            ]
          },
          "metadata": {}
        }
      ],
      "execution_count": 153,
      "metadata": {
        "collapsed": false,
        "outputHidden": false,
        "inputHidden": false
      }
    },
    {
      "cell_type": "markdown",
      "source": [
        "Plotting $Q$ vs. $T_a$ we have,"
      ],
      "metadata": {}
    },
    {
      "cell_type": "code",
      "source": [
        "sol = solve(q.magnitude + d_H_exp.magnitude, Ta)[0] # this was added because there are no units.\n",
        "r = [sol, d_H_exp.magnitude]\n",
        "\n",
        "lam_x = lambdify(Ta, q.magnitude, modules=['numpy'])\n",
        "\n",
        "x_vals = linspace(0, 3000, 100)\n",
        "y_vals = lam_x(x_vals)/1000\n",
        "\n",
        "plt.plot(y_vals, x_vals, -d_H_exp.magnitude/1000, sol, 'ro')\n",
        "plt.axhline(sol, color = 'red', linestyle = ':')\n",
        "plt.axvline(-d_H_exp.magnitude/1000, color = 'red', linestyle = ':')\n",
        "\n",
        "arrowprops = dict(\n",
        "    arrowstyle = \"-|>\",\n",
        "    connectionstyle = \"angle, angleB=45,rad=10\")\n",
        "offset = 400\n",
        "plt.annotate('$(%.1f, %.1f)$'%(-d_H_exp.magnitude/1000, sol), (-d_H_exp.magnitude/1000, sol), \n",
        "             xytext=(350, 1500), arrowprops=arrowprops)\n",
        "\n",
        "plt.ylabel(r\"$T_a (K)$\")\n",
        "plt.xlabel(\"Q (kcal)\")\n",
        "plt.show()"
      ],
      "outputs": [
        {
          "output_type": "display_data",
          "data": {
            "text/plain": [
              "<Figure size 931.988x576 with 1 Axes>"
            ],
            "image/png": "[encoded data removed]",
            "application/pdf": "[encoded data removed]"
          },
          "metadata": {
            "needs_background": "light"
          }
        }
      ],
      "execution_count": 154,
      "metadata": {
        "collapsed": false,
        "outputHidden": false,
        "inputHidden": false
      }
    },
    {
      "cell_type": "markdown",
      "source": [
        "Now we can use ratio of specific heats, $\\lambda$, for the correction to constant volume. We must calculate $\\lambda$ for this mixture of gases using,\n",
        "\n",
        "$$\\lambda_{avg} = \\sum_i n_i\\cdot \\lambda_i$$\n",
        "\nwhere $n_i$ is the mole fraction and $\\lambda$ is the ratio of specific heats for each product."
      ],
      "metadata": {}
    },
    {
      "cell_type": "code",
      "source": [
        "lambda_h2o = 1.324\n",
        "lambda_co = 1.404\n",
        "lambda_h2 = 1.410\n",
        "lambda_avg = n_frac_co*lambda_co + n_frac_h2*lambda_h2 + n_frac_h2o*lambda_h2o\n",
        "display(Math((r\"\\lambda_{{avg}} = {:3.3}\".format(latex(lambda_avg)))))"
      ],
      "outputs": [
        {
          "output_type": "display_data",
          "data": {
            "text/plain": [
              "<IPython.core.display.Math object>"
            ],
            "text/latex": [
              "$\\displaystyle \\lambda_{avg} = 1.3$"
            ]
          },
          "metadata": {}
        }
      ],
      "execution_count": 155,
      "metadata": {
        "collapsed": false,
        "outputHidden": false,
        "inputHidden": false
      }
    },
    {
      "cell_type": "markdown",
      "source": [
        "The temperature a constant volume is given by,\n",
        "\n$$T_v = T_a\\cdot \\lambda_{avg}$$"
      ],
      "metadata": {}
    },
    {
      "cell_type": "code",
      "source": [
        "T_v = sol*lambda_avg\n",
        "display(Math((r\"T_{{V}} = {:6.6} \\:K\".format(latex(T_v*u.K)))))"
      ],
      "outputs": [
        {
          "output_type": "display_data",
          "data": {
            "text/plain": [
              "<IPython.core.display.Math object>"
            ],
            "text/latex": [
              "$\\displaystyle T_{V} = 3618.8 \\:K$"
            ]
          },
          "metadata": {}
        }
      ],
      "execution_count": 156,
      "metadata": {
        "collapsed": false,
        "outputHidden": false,
        "inputHidden": false
      }
    },
    {
      "cell_type": "markdown",
      "source": [
        "## Pressure of Gases\n",
        "Assuming pressures above 200 atm we can no longer use the ideal gas law equation of state (EOS). A common equation of state for pressures above 200 atm and commonly used in the field of interior balistics is the Noble-Able EOS:\n",
        "\n$$P\\left(V-0.025\\cdot N_{{products}}\\right)=0.0821\\cdot N_{{products}}\\cdot T$$"
      ],
      "metadata": {}
    },
    {
      "cell_type": "code",
      "source": [
        "v_tank.ito(u.liter)\n",
        "P_v = (0.0821*N_prod.magnitude*T_v)/(v_tank.magnitude-0.025*N_prod.magnitude)\n",
        "display(Math((r\"P = {:5.5} \\:atm \\:(5158.28\\:psi)\".format(latex(P_v)))))"
      ],
      "outputs": [
        {
          "output_type": "display_data",
          "data": {
            "text/plain": [
              "<IPython.core.display.Math object>"
            ],
            "text/latex": [
              "$\\displaystyle P = 351.1 \\:atm \\:(5158.28\\:psi)$"
            ]
          },
          "metadata": {}
        }
      ],
      "execution_count": 157,
      "metadata": {
        "collapsed": false,
        "outputHidden": false,
        "inputHidden": false
      }
    },
    {
      "cell_type": "markdown",
      "source": [
        "This is almost 5 times the burst pressure of a standard 20lb propane tank and would cause the tank to fail catostrophically.\n",
        "\n",
        "## References\n",
        "\n1.  P. Cooper, Exlosives Engineering. New York, NY: Wiley-VCH Verlag GmbH Co., 1996."
      ],
      "metadata": {}
    }
  ],
  "metadata": {
    "kernel_info": {
      "name": "python3"
    },
    "language_info": {
      "name": "python",
      "version": "3.6.7",
      "mimetype": "text/x-python",
      "codemirror_mode": {
        "name": "ipython",
        "version": 3
      },
      "pygments_lexer": "ipython3",
      "nbconvert_exporter": "python",
      "file_extension": ".py"
    },
    "kernelspec": {
      "name": "python3",
      "language": "python",
      "display_name": "Python 3"
    },
    "nteract": {
      "version": "0.12.3"
    }
  },
  "nbformat": 4,
  "nbformat_minor": 4
}